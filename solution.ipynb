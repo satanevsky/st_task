{
 "cells": [
  {
   "cell_type": "markdown",
   "metadata": {
    "deletable": true,
    "editable": true
   },
   "source": [
    "<h2>DataScientist Task solution, Uladzislau Sataneuski</h2>\n",
    "\n",
    "Here is a plan of what we will actually do:\n",
    "\n",
    "1) Brief exploratory data analysis to understand data. <br>\n",
    "2) Define and implement evaluation metric to compare our solutions. <br>\n",
    "3) Implement few scoring formulas and compare them.\n",
    "4) Results discussion."
   ]
  },
  {
   "cell_type": "markdown",
   "metadata": {
    "deletable": true,
    "editable": true
   },
   "source": [
    "<h3> Exploratory data analysis </h3>"
   ]
  },
  {
   "cell_type": "markdown",
   "metadata": {
    "deletable": true,
    "editable": true
   },
   "source": [
    "Reading data."
   ]
  },
  {
   "cell_type": "code",
   "execution_count": 1,
   "metadata": {
    "collapsed": false,
    "deletable": true,
    "editable": true
   },
   "outputs": [],
   "source": [
    "import pandas as pd\n",
    "import numpy as np\n",
    "import matplotlib.pyplot as plt\n",
    "from scipy import stats\n",
    "from sklearn import base as sklearn_base\n",
    "import constants\n",
    "import evaluation\n",
    "%matplotlib inline"
   ]
  },
  {
   "cell_type": "code",
   "execution_count": 2,
   "metadata": {
    "collapsed": false
   },
   "outputs": [
    {
     "name": "stdout",
     "output_type": "stream",
     "text": [
      "product_id,category_id,cpc,clicks,views\r\n",
      "6288767857890040299,7234842626579207420,1.0999999632755684,0.0,26.0\r\n",
      "7511865592050261319,3751288961258999757,1.7999998626303444,0.0,156.0\r\n",
      "124988842461858786,5924358085291389806,1.6399996427528003,2.0,44.0\r\n",
      "1943562212212540244,7234842626579207420,1.0999996194276516,0.0,\r\n",
      "4896302356121240191,7234842626579207420,1.0999987098488406,0.0,\r\n",
      "1067762062849714419,8847485355484130425,1.639998254871153,5.0,120.0\r\n",
      "5054781576529716516,7234842626579207420,1.0999979029817177,0.0,\r\n",
      "9081793091528551090,8757232218924067765,1.699997697538757,0.0,\r\n",
      "6720608310976529092,1923544693465519030,1.6599970579580705,0.0,21.0\r\n"
     ]
    }
   ],
   "source": [
    "!head product_scoring.csv"
   ]
  },
  {
   "cell_type": "code",
   "execution_count": 3,
   "metadata": {
    "collapsed": false,
    "deletable": true,
    "editable": true
   },
   "outputs": [
    {
     "data": {
      "text/html": [
       "<div>\n",
       "<table border=\"1\" class=\"dataframe\">\n",
       "  <thead>\n",
       "    <tr style=\"text-align: right;\">\n",
       "      <th></th>\n",
       "      <th>product_id</th>\n",
       "      <th>category_id</th>\n",
       "      <th>cpc</th>\n",
       "      <th>clicks</th>\n",
       "      <th>views</th>\n",
       "    </tr>\n",
       "  </thead>\n",
       "  <tbody>\n",
       "    <tr>\n",
       "      <th>0</th>\n",
       "      <td>6288767857890040299</td>\n",
       "      <td>7234842626579207420</td>\n",
       "      <td>1.100000</td>\n",
       "      <td>0</td>\n",
       "      <td>26</td>\n",
       "    </tr>\n",
       "    <tr>\n",
       "      <th>1</th>\n",
       "      <td>7511865592050261319</td>\n",
       "      <td>3751288961258999757</td>\n",
       "      <td>1.800000</td>\n",
       "      <td>0</td>\n",
       "      <td>156</td>\n",
       "    </tr>\n",
       "    <tr>\n",
       "      <th>2</th>\n",
       "      <td>124988842461858786</td>\n",
       "      <td>5924358085291389806</td>\n",
       "      <td>1.640000</td>\n",
       "      <td>2</td>\n",
       "      <td>44</td>\n",
       "    </tr>\n",
       "    <tr>\n",
       "      <th>3</th>\n",
       "      <td>1943562212212540244</td>\n",
       "      <td>7234842626579207420</td>\n",
       "      <td>1.100000</td>\n",
       "      <td>0</td>\n",
       "      <td>0</td>\n",
       "    </tr>\n",
       "    <tr>\n",
       "      <th>4</th>\n",
       "      <td>4896302356121240191</td>\n",
       "      <td>7234842626579207420</td>\n",
       "      <td>1.099999</td>\n",
       "      <td>0</td>\n",
       "      <td>0</td>\n",
       "    </tr>\n",
       "    <tr>\n",
       "      <th>5</th>\n",
       "      <td>1067762062849714419</td>\n",
       "      <td>8847485355484130425</td>\n",
       "      <td>1.639998</td>\n",
       "      <td>5</td>\n",
       "      <td>120</td>\n",
       "    </tr>\n",
       "    <tr>\n",
       "      <th>6</th>\n",
       "      <td>5054781576529716516</td>\n",
       "      <td>7234842626579207420</td>\n",
       "      <td>1.099998</td>\n",
       "      <td>0</td>\n",
       "      <td>0</td>\n",
       "    </tr>\n",
       "    <tr>\n",
       "      <th>7</th>\n",
       "      <td>9081793091528551090</td>\n",
       "      <td>8757232218924067765</td>\n",
       "      <td>1.699998</td>\n",
       "      <td>0</td>\n",
       "      <td>0</td>\n",
       "    </tr>\n",
       "    <tr>\n",
       "      <th>8</th>\n",
       "      <td>6720608310976529092</td>\n",
       "      <td>1923544693465519030</td>\n",
       "      <td>1.659997</td>\n",
       "      <td>0</td>\n",
       "      <td>21</td>\n",
       "    </tr>\n",
       "    <tr>\n",
       "      <th>9</th>\n",
       "      <td>8661966909908175139</td>\n",
       "      <td>1923544693465519030</td>\n",
       "      <td>1.659995</td>\n",
       "      <td>0</td>\n",
       "      <td>59</td>\n",
       "    </tr>\n",
       "  </tbody>\n",
       "</table>\n",
       "</div>"
      ],
      "text/plain": [
       "            product_id          category_id       cpc  clicks  views\n",
       "0  6288767857890040299  7234842626579207420  1.100000       0     26\n",
       "1  7511865592050261319  3751288961258999757  1.800000       0    156\n",
       "2   124988842461858786  5924358085291389806  1.640000       2     44\n",
       "3  1943562212212540244  7234842626579207420  1.100000       0      0\n",
       "4  4896302356121240191  7234842626579207420  1.099999       0      0\n",
       "5  1067762062849714419  8847485355484130425  1.639998       5    120\n",
       "6  5054781576529716516  7234842626579207420  1.099998       0      0\n",
       "7  9081793091528551090  8757232218924067765  1.699998       0      0\n",
       "8  6720608310976529092  1923544693465519030  1.659997       0     21\n",
       "9  8661966909908175139  1923544693465519030  1.659995       0     59"
      ]
     },
     "execution_count": 3,
     "metadata": {},
     "output_type": "execute_result"
    }
   ],
   "source": [
    "data = pd.read_csv('product_scoring.csv', dtype={'product_id': str, 'category_id': str, 'cpc': np.double, 'clicks': np.int64, 'views': np.float64})\n",
    "data.views = data.views.fillna(0).astype(np.int64)\n",
    "data.head(10)"
   ]
  },
  {
   "cell_type": "markdown",
   "metadata": {
    "deletable": true,
    "editable": true
   },
   "source": [
    "It's easy to see that we have items in our collection having 0 views."
   ]
  },
  {
   "cell_type": "markdown",
   "metadata": {
    "deletable": true,
    "editable": true
   },
   "source": [
    "Here we just look at data size and double check that IDs are unique."
   ]
  },
  {
   "cell_type": "code",
   "execution_count": 4,
   "metadata": {
    "collapsed": false,
    "deletable": true,
    "editable": true
   },
   "outputs": [
    {
     "name": "stdout",
     "output_type": "stream",
     "text": [
      "data shape: (10000, 5)\n",
      "different products: 10000\n"
     ]
    }
   ],
   "source": [
    "print(\"data shape:\", data.shape)\n",
    "print(\"different products:\", data.product_id.nunique())"
   ]
  },
  {
   "cell_type": "markdown",
   "metadata": {
    "deletable": true,
    "editable": true
   },
   "source": [
    "Let's look at how popular our categories are"
   ]
  },
  {
   "cell_type": "code",
   "execution_count": 5,
   "metadata": {
    "collapsed": false,
    "deletable": true,
    "editable": true
   },
   "outputs": [],
   "source": [
    "categories_value_counts = data.category_id.value_counts()"
   ]
  },
  {
   "cell_type": "code",
   "execution_count": 6,
   "metadata": {
    "collapsed": false,
    "deletable": true,
    "editable": true
   },
   "outputs": [
    {
     "data": {
      "text/plain": [
       "7234842626579207420    4000\n",
       "8757232218924067765     675\n",
       "1685543589975630639     484\n",
       "1923544693465519030     466\n",
       "5165268297756540484     339\n",
       "Name: category_id, dtype: int64"
      ]
     },
     "execution_count": 6,
     "metadata": {},
     "output_type": "execute_result"
    }
   ],
   "source": [
    "categories_value_counts.head()"
   ]
  },
  {
   "cell_type": "code",
   "execution_count": 7,
   "metadata": {
    "collapsed": false,
    "deletable": true,
    "editable": true
   },
   "outputs": [
    {
     "data": {
      "text/plain": [
       "count     170.000000\n",
       "mean       58.823529\n",
       "std       315.819763\n",
       "min         1.000000\n",
       "25%         3.250000\n",
       "50%        10.000000\n",
       "75%        24.000000\n",
       "max      4000.000000\n",
       "Name: category_id, dtype: float64"
      ]
     },
     "execution_count": 7,
     "metadata": {},
     "output_type": "execute_result"
    }
   ],
   "source": [
    "categories_value_counts.describe()"
   ]
  },
  {
   "cell_type": "code",
   "execution_count": 8,
   "metadata": {
    "collapsed": false,
    "deletable": true,
    "editable": true
   },
   "outputs": [
    {
     "data": {
      "text/plain": [
       "[<matplotlib.lines.Line2D at 0x7f94779982e8>]"
      ]
     },
     "execution_count": 8,
     "metadata": {},
     "output_type": "execute_result"
    },
    {
     "data": {
      "image/png": "[encoded data removed]",
      "text/plain": [
       "<matplotlib.figure.Figure at 0x7f93f4b08048>"
      ]
     },
     "metadata": {},
     "output_type": "display_data"
    }
   ],
   "source": [
    "plt.plot(range(len(categories_value_counts)), categories_value_counts)"
   ]
  },
  {
   "cell_type": "markdown",
   "metadata": {
    "deletable": true,
    "editable": true
   },
   "source": [
    "We see that there is one group having 4000 products and lots of small groups. This means that we won't be able to calculate robust statistics (like average click probability) for all of them."
   ]
  },
  {
   "cell_type": "code",
   "execution_count": 9,
   "metadata": {
    "collapsed": false,
    "deletable": true,
    "editable": true
   },
   "outputs": [
    {
     "data": {
      "image/png": "[encoded data removed]",
      "text/plain": [
       "<matplotlib.figure.Figure at 0x7f93f4b08d68>"
      ]
     },
     "metadata": {},
     "output_type": "display_data"
    }
   ],
   "source": [
    "_ = plt.hist(data.views, bins=100)"
   ]
  },
  {
   "cell_type": "code",
   "execution_count": 10,
   "metadata": {
    "collapsed": false,
    "deletable": true,
    "editable": true
   },
   "outputs": [
    {
     "data": {
      "image/png": "[encoded data removed]",
      "text/plain": [
       "<matplotlib.figure.Figure at 0x7f9455871470>"
      ]
     },
     "metadata": {},
     "output_type": "display_data"
    }
   ],
   "source": [
    "_ = plt.hist(data.views[(data.views >= 1) & (data.views <= 1000)], bins=100)"
   ]
  },
  {
   "cell_type": "code",
   "execution_count": 11,
   "metadata": {
    "collapsed": false,
    "deletable": true,
    "editable": true
   },
   "outputs": [
    {
     "data": {
      "text/plain": [
       "5561"
      ]
     },
     "execution_count": 11,
     "metadata": {},
     "output_type": "execute_result"
    }
   ],
   "source": [
    "(data.views == 0).sum()"
   ]
  },
  {
   "cell_type": "markdown",
   "metadata": {
    "deletable": true,
    "editable": true
   },
   "source": [
    "Here we see that more than a half of products have been never shown. In means that our scoring function should handle these products well.\n",
    "We also see that despite it we have some products with really huge views count."
   ]
  },
  {
   "cell_type": "markdown",
   "metadata": {
    "deletable": true,
    "editable": true
   },
   "source": [
    "Let's have a look at the click probability for the whole dataset."
   ]
  },
  {
   "cell_type": "code",
   "execution_count": 12,
   "metadata": {
    "collapsed": false,
    "deletable": true,
    "editable": true
   },
   "outputs": [
    {
     "data": {
      "text/plain": [
       "0.020341417402632529"
      ]
     },
     "execution_count": 12,
     "metadata": {},
     "output_type": "execute_result"
    }
   ],
   "source": [
    "data.clicks.sum() / data.views.sum()"
   ]
  },
  {
   "cell_type": "markdown",
   "metadata": {
    "deletable": true,
    "editable": true
   },
   "source": [
    "Let's have a look at cpc distribution."
   ]
  },
  {
   "cell_type": "code",
   "execution_count": 13,
   "metadata": {
    "collapsed": false,
    "deletable": true,
    "editable": true
   },
   "outputs": [
    {
     "data": {
      "text/plain": [
       "(array([ 4000.,     0.,     0.,  2619.,  1762.,  1104.,   278.,    25.,\n",
       "            0.,   212.]),\n",
       " array([ 1.09425665,  1.24480941,  1.39536218,  1.54591494,  1.69646771,\n",
       "         1.84702047,  1.99757324,  2.148126  ,  2.29867877,  2.44923153,\n",
       "         2.5997843 ]),\n",
       " <a list of 10 Patch objects>)"
      ]
     },
     "execution_count": 13,
     "metadata": {},
     "output_type": "execute_result"
    },
    {
     "data": {
      "image/png": "[encoded data removed]",
      "text/plain": [
       "<matplotlib.figure.Figure at 0x7f93f4b70d68>"
      ]
     },
     "metadata": {},
     "output_type": "display_data"
    }
   ],
   "source": [
    "plt.hist(data.cpc)"
   ]
  },
  {
   "cell_type": "markdown",
   "metadata": {
    "deletable": true,
    "editable": true
   },
   "source": [
    "Here we see strange gaps in our distribution. Let's have a look at it in more detail."
   ]
  },
  {
   "cell_type": "code",
   "execution_count": 14,
   "metadata": {
    "collapsed": false,
    "deletable": true,
    "editable": true
   },
   "outputs": [
    {
     "name": "stdout",
     "output_type": "stream",
     "text": [
      "count     6000.000000\n",
      "mean       186.410167\n",
      "std        834.256770\n",
      "min          0.000000\n",
      "25%          0.000000\n",
      "50%         36.000000\n",
      "75%        132.000000\n",
      "max      32168.000000\n",
      "Name: views, dtype: float64\n"
     ]
    }
   ],
   "source": [
    "items_mask = ((data.cpc > 1.2))\n",
    "print(data.views[items_mask].describe())"
   ]
  },
  {
   "cell_type": "code",
   "execution_count": 15,
   "metadata": {
    "collapsed": false,
    "deletable": true,
    "editable": true
   },
   "outputs": [
    {
     "name": "stdout",
     "output_type": "stream",
     "text": [
      "count    4000.000000\n",
      "mean       12.461250\n",
      "std        46.770283\n",
      "min         0.000000\n",
      "25%         0.000000\n",
      "50%         0.000000\n",
      "75%         0.000000\n",
      "max      1188.000000\n",
      "Name: views, dtype: float64\n"
     ]
    }
   ],
   "source": [
    "items_mask = ((data.cpc <= 1.2))\n",
    "print(data.views[items_mask].describe())"
   ]
  },
  {
   "cell_type": "markdown",
   "metadata": {
    "deletable": true,
    "editable": true
   },
   "source": [
    "We see that we have very different statistics for these classes. It's also interesging that there are exactly 4000 products in it, like in the most popular category. Let's check."
   ]
  },
  {
   "cell_type": "code",
   "execution_count": 16,
   "metadata": {
    "collapsed": false,
    "deletable": true,
    "editable": true
   },
   "outputs": [
    {
     "data": {
      "text/plain": [
       "count    0.0\n",
       "mean     NaN\n",
       "std      NaN\n",
       "min      NaN\n",
       "25%      NaN\n",
       "50%      NaN\n",
       "75%      NaN\n",
       "max      NaN\n",
       "Name: cpc, dtype: float64"
      ]
     },
     "execution_count": 16,
     "metadata": {},
     "output_type": "execute_result"
    }
   ],
   "source": [
    "data.cpc[data.category_id == 7234842626579207420].describe()"
   ]
  },
  {
   "cell_type": "markdown",
   "metadata": {
    "deletable": true,
    "editable": true
   },
   "source": [
    "Yes. we see that all of them have cpc < 1.2. It means that we have a huge group of products having relatively small cpc and the same category. They also have smaller views count. It probably means that it's because of some logical (business) reasons that we don't know."
   ]
  },
  {
   "cell_type": "markdown",
   "metadata": {
    "deletable": true,
    "editable": true
   },
   "source": [
    "Let's look at click probability distribution over products having lots of views."
   ]
  },
  {
   "cell_type": "code",
   "execution_count": 17,
   "metadata": {
    "collapsed": false,
    "deletable": true,
    "editable": true
   },
   "outputs": [
    {
     "data": {
      "text/plain": [
       "(array([  1.46700000e+03,   3.32000000e+02,   8.20000000e+01,\n",
       "          2.60000000e+01,   1.00000000e+01,   3.00000000e+00,\n",
       "          1.00000000e+00,   1.00000000e+00,   0.00000000e+00,\n",
       "          1.00000000e+00]),\n",
       " array([ 0.        ,  0.02336825,  0.0467365 ,  0.07010475,  0.09347301,\n",
       "         0.11684126,  0.14020951,  0.16357776,  0.18694601,  0.21031426,\n",
       "         0.23368251]),\n",
       " <a list of 10 Patch objects>)"
      ]
     },
     "execution_count": 17,
     "metadata": {},
     "output_type": "execute_result"
    },
    {
     "data": {
      "image/png": "[encoded data removed]",
      "text/plain": [
       "<matplotlib.figure.Figure at 0x7f94558d4470>"
      ]
     },
     "metadata": {},
     "output_type": "display_data"
    }
   ],
   "source": [
    "plt.hist((data.clicks / (data.views + 0.1))[data.views >= 100])"
   ]
  },
  {
   "cell_type": "markdown",
   "metadata": {
    "deletable": true,
    "editable": true
   },
   "source": [
    "We see that some of them are much more relevant for users than others."
   ]
  },
  {
   "cell_type": "markdown",
   "metadata": {
    "deletable": true,
    "editable": true
   },
   "source": [
    "Let's have a look at cpc and click probability together. "
   ]
  },
  {
   "cell_type": "code",
   "execution_count": 18,
   "metadata": {
    "collapsed": false,
    "deletable": true,
    "editable": true
   },
   "outputs": [
    {
     "data": {
      "image/png": "[encoded data removed]",
      "text/plain": [
       "<matplotlib.figure.Figure at 0x7f9455944c88>"
      ]
     },
     "metadata": {},
     "output_type": "display_data"
    }
   ],
   "source": [
    "items_mask = (data.views >= 100)\n",
    "x=(data.clicks / (data.views + 0.1))[items_mask]\n",
    "y=data.cpc[items_mask]\n",
    "xy = np.vstack([x,y])\n",
    "z = stats.gaussian_kde(xy)(xy)\n",
    "\n",
    "fig, ax = plt.subplots()\n",
    "ax.scatter(x, y, c=z, s=50, edgecolor='')\n",
    "plt.show()"
   ]
  },
  {
   "cell_type": "markdown",
   "metadata": {
    "deletable": true,
    "editable": true
   },
   "source": [
    "We see that we have only few \"outliers\" here, which is a good news for us."
   ]
  },
  {
   "cell_type": "markdown",
   "metadata": {
    "deletable": true,
    "editable": true
   },
   "source": [
    "<h3> Defining scoring function </h3>\n",
    "\n",
    "Actually, scoring function highly depends on business needs and currently we don't know them well. For example, the most obvious one is money, so we should optimize expected amount of money we get for clicks after showing recommendations. We will optimise that, but there could be different objectives like probability of click, because if user clicks on our recommendation, it's useful for him, so we'll have happy customers with lower retention. It could be also objective to show different new products that haven't been shown to collect data about different items.\n",
    "\n",
    "In our case let's define objective function as follows (we'll redefine nDCG scoring function):\n",
    "\n",
    "$$DCG = \\sum_i\\frac{p_i \\cdot cpc_i}{log(i+1)}$$\n",
    "\n",
    "$$nDCG = \\frac{DCG}{IDCG}$$\n",
    "\n",
    "Where $p_i$ is a probability for item in test set to be clicked and $cpc_i$ is a cost per click for this item. We'll try to optimize $nDCG$.\n",
    "\n",
    "Now we need to define how actually this function is calculated. So we have to define validation scheme. Of course, we cannot do in straightforward way (splitting rows of current csv). Instead of it we'll do cross validation over all views, so we'll split pairs (product_id, user_clicked), where user_clicked is a boolean indicating if user clicked. And we'll calculate it directly:\n",
    "\n",
    "1) For product with A views and P clicks we'll create B pairs (product_id, True) and A - B pairs (product_id, False). <br>\n",
    "2) We'll do cross-validation over these pairs. At each step of croll validation we'll combine our pairs into format we've had at the beginning (having count of views and clicks) and pass to algirithm.\n",
    "\n",
    "Of course, it's not an efficient procedure, but I think it's relatively easy to implement and speed could be improved if needed or algorithm could be approximated (for example, we can identify amount of product viewed and clicked counts for train and test by sampling from binomial distribution or its approximation)."
   ]
  },
  {
   "cell_type": "markdown",
   "metadata": {},
   "source": [
    "<h3>Formulas evaluation</h3>"
   ]
  },
  {
   "cell_type": "markdown",
   "metadata": {},
   "source": [
    "Now, let's evaluate few models. The most obvious one is random model, assigning random score for each product."
   ]
  },
  {
   "cell_type": "code",
   "execution_count": 19,
   "metadata": {
    "collapsed": false,
    "deletable": true,
    "editable": true
   },
   "outputs": [],
   "source": [
    "class RandomModel(sklearn_base.BaseEstimator):\n",
    "    def fit(self, X, y=None):\n",
    "        return self\n",
    "\n",
    "    def predict(self, X):\n",
    "        np.random.seed(42)\n",
    "        return np.random.ranf(len(X))"
   ]
  },
  {
   "cell_type": "code",
   "execution_count": 20,
   "metadata": {
    "collapsed": false,
    "deletable": true,
    "editable": true
   },
   "outputs": [
    {
     "data": {
      "text/plain": [
       "EvaluationResults(scores=array([ 0.53289584,  0.50911644,  0.49078954,  0.52462308,  0.52284123,\n",
       "        0.50658949,  0.4954208 ,  0.50348797,  0.47921536,  0.53078096]), mean=0.5095760706285628, std=0.017079547887464529)"
      ]
     },
     "execution_count": 20,
     "metadata": {},
     "output_type": "execute_result"
    }
   ],
   "source": [
    "evaluation.evaluate(RandomModel(), data)"
   ]
  },
  {
   "cell_type": "markdown",
   "metadata": {},
   "source": [
    "Model, assigning score equal to CPC."
   ]
  },
  {
   "cell_type": "code",
   "execution_count": 21,
   "metadata": {
    "collapsed": true,
    "deletable": true,
    "editable": true
   },
   "outputs": [],
   "source": [
    "class CPCModel(sklearn_base.BaseEstimator):\n",
    "    def fit(self, X, y=None):\n",
    "        return self\n",
    "\n",
    "    def predict(self, X):\n",
    "        return X.cpc"
   ]
  },
  {
   "cell_type": "code",
   "execution_count": 22,
   "metadata": {
    "collapsed": false,
    "deletable": true,
    "editable": true
   },
   "outputs": [
    {
     "data": {
      "text/plain": [
       "EvaluationResults(scores=array([ 0.55013212,  0.50701124,  0.49257735,  0.54060066,  0.51724421,\n",
       "        0.50965299,  0.51304838,  0.50693182,  0.48357495,  0.51886908]), mean=0.51396427983878945, std=0.01884293567352896)"
      ]
     },
     "execution_count": 22,
     "metadata": {},
     "output_type": "execute_result"
    }
   ],
   "source": [
    "evaluation.evaluate(CPCModel(), data)"
   ]
  },
  {
   "cell_type": "markdown",
   "metadata": {},
   "source": [
    "Model estimating probability of click using highest likelihood formula and then multiplies estimated probability by CPC."
   ]
  },
  {
   "cell_type": "code",
   "execution_count": 23,
   "metadata": {
    "collapsed": false,
    "deletable": true,
    "editable": true
   },
   "outputs": [],
   "source": [
    "class TrivialEstimatedProfitModel(sklearn_base.BaseEstimator):\n",
    "    def __init__(self):\n",
    "        self._score = None\n",
    "\n",
    "    def fit(self, X, y=None):\n",
    "        X = X.set_index(constants.PRODUCT_ID)\n",
    "        self._score = X.clicks / (X.views + 1e-6)\n",
    "        return self\n",
    "\n",
    "    def predict(self, X):\n",
    "        estimated_probabilities = X.product_id.map(self._score).fillna(0.0)\n",
    "        estimated_profit = estimated_probabilities * X.cpc\n",
    "        return estimated_profit"
   ]
  },
  {
   "cell_type": "code",
   "execution_count": 24,
   "metadata": {
    "collapsed": false,
    "deletable": true,
    "editable": true
   },
   "outputs": [
    {
     "data": {
      "text/plain": [
       "EvaluationResults(scores=array([ 0.75830086,  0.69106545,  0.69260688,  0.71003078,  0.68714974,\n",
       "        0.70971315,  0.71848003,  0.68242423,  0.76773298,  0.71906057]), mean=0.71365646632661384, std=0.027622555162742084)"
      ]
     },
     "execution_count": 24,
     "metadata": {},
     "output_type": "execute_result"
    }
   ],
   "source": [
    "trivial_model = TrivialEstimatedProfitModel()\n",
    "evaluation.evaluate(trivial_model, data)"
   ]
  },
  {
   "cell_type": "markdown",
   "metadata": {},
   "source": [
    "We see that this model is much better than others as expected."
   ]
  },
  {
   "cell_type": "markdown",
   "metadata": {},
   "source": [
    "As we noticed before, we have lot's of items with zero or small amount of views. And we have lots of categories with small number of products. So we need smoothing to estmate our statistics more robust.\n",
    "\n",
    "To do that, we'll use the following formula:\n",
    "\n",
    "Let $P$ be a set of products, $c_p$ be product $p$ category.\n",
    "\n",
    "$nc(condition)$ - total number of clicks for products satisfying condition and $nv(condition)$ - total number of views for product satisfying condition. Let $prior$ be prior probability of click. \n",
    "\n",
    "$$prior = \\frac{nc(p \\in P)}{nv(p \\in P)}$$\n",
    "\n",
    "Let $cat_c$ be estimated probability of product with category $c$ to be clicked. We, ll estimate $cat_c$ as:\n",
    "$$cat_c = \\frac{nc(p|c_p=c) + \\alpha * pp}{nv(p|c_p=c) + \\alpha}$$\n",
    "\n",
    "Let $prod_p$ be estimated probability of click on product $p$, we'll estimate $prod_p$ as:\n",
    "$$prod_p = \\gamma \\cdot \\frac{nc(p) + \\beta * cat_{p_c}}{nv(p) + \\beta} + (1 - \\gamma) \\cdot cat_{p_c} \\cdot discount$$\n",
    "\n",
    "Here $\\alpha$, $\\beta$, $\\gamma$ and $discount$ are parameters. This is usual additive smoothing scheme with linear interpolation and discounting ensuring that product click has more weigth in this sum. I've also tried absolute discounting, but it didn't work better."
   ]
  },
  {
   "cell_type": "code",
   "execution_count": 25,
   "metadata": {
    "collapsed": false,
    "deletable": true,
    "editable": true
   },
   "outputs": [],
   "source": [
    "_CATEGORY_PROBABILITY = 'category_probability'\n",
    "\n",
    "\n",
    "class SmoothedEstimatedProfitModel(sklearn_base.BaseEstimator):\n",
    "    def __init__(self, alpha, beta, gamma, discount):\n",
    "        self._product_data = None\n",
    "        self._category_data = None\n",
    "        self.alpha = alpha\n",
    "        self.beta = beta\n",
    "        self.gamma = gamma\n",
    "        self.discount = discount\n",
    "\n",
    "    def fit(self, X, y=None):\n",
    "        X = X.set_index(constants.PRODUCT_ID)\n",
    "        self._product_data = X\n",
    "        self._category_data = X.groupby(constants.CATEGORY_ID).sum()\n",
    "        self._all_probability = X.clicks.sum() / X.views.sum()\n",
    "        return self\n",
    "\n",
    "    def predict(self, X):\n",
    "        category_probability = (\n",
    "            (self._category_data.clicks + self._all_probability * self.alpha) / \n",
    "            (self._category_data.views + self.alpha)\n",
    "        )\n",
    "\n",
    "        X_extended = X.merge(\n",
    "            self._product_data[[constants.VIEWS, constants.CLICKS]],\n",
    "            left_on=constants.PRODUCT_ID,\n",
    "            right_index=True,\n",
    "            how='left',\n",
    "        ).fillna(0)        \n",
    "\n",
    "        X_extended[_CATEGORY_PROBABILITY] = X_extended.category_id.map(category_probability)\n",
    "\n",
    "        product_click_probability = ((X_extended.clicks + X_extended.category_probability * self.beta) \n",
    "                                     / (X_extended.views + self.beta))\n",
    "\n",
    "        product_click_probability = (\n",
    "            self.gamma * product_click_probability + \n",
    "            (1 - self.gamma) * X_extended.category_probability * self.discount\n",
    "        )\n",
    "\n",
    "        return (product_click_probability * X_extended.cpc)[X.index]"
   ]
  },
  {
   "cell_type": "markdown",
   "metadata": {},
   "source": [
    "Playing with parameters I have found solution that is just slightly better than trivial one."
   ]
  },
  {
   "cell_type": "code",
   "execution_count": 26,
   "metadata": {
    "collapsed": false,
    "deletable": true,
    "editable": true
   },
   "outputs": [
    {
     "data": {
      "text/plain": [
       "EvaluationResults(scores=array([ 0.75813723,  0.69102417,  0.69301048,  0.70991352,  0.68759377,\n",
       "        0.70930072,  0.71843812,  0.68328254,  0.76803482,  0.71960247]), mean=0.7138337849027605, std=0.027507721764266999)"
      ]
     },
     "execution_count": 26,
     "metadata": {},
     "output_type": "execute_result"
    }
   ],
   "source": [
    "smoothed_model = SmoothedEstimatedProfitModel(alpha=100.0, beta=1e-6, gamma=0.9, discount=0.9)\n",
    "evaluation.evaluate(smoothed_model, data)"
   ]
  },
  {
   "cell_type": "markdown",
   "metadata": {},
   "source": [
    "Let's save results. Despite having metric a bit worse than parameters before, I'd better choose $\\beta=50$ in submission. I'll explain my opinion later in results discussion section."
   ]
  },
  {
   "cell_type": "code",
   "execution_count": 37,
   "metadata": {
    "collapsed": false
   },
   "outputs": [],
   "source": [
    "data['trivial_score'] = trivial_model\\\n",
    "    .fit(data).predict(data[[constants.PRODUCT_ID, constants.CATEGORY_ID, constants.CPC]])\n",
    "data['smoothed_score'] = SmoothedEstimatedProfitModel(alpha=100.0, beta=50, gamma=0.9, discount=0.9)\\\n",
    "    .fit(data).predict(data[[constants.PRODUCT_ID, constants.CATEGORY_ID, constants.CPC]])"
   ]
  },
  {
   "cell_type": "code",
   "execution_count": 38,
   "metadata": {
    "collapsed": false
   },
   "outputs": [],
   "source": [
    "data.set_index(constants.PRODUCT_ID).to_csv('results.csv')"
   ]
  },
  {
   "cell_type": "code",
   "execution_count": 45,
   "metadata": {
    "collapsed": false
   },
   "outputs": [
    {
     "data": {
      "text/html": [
       "<div>\n",
       "<table border=\"1\" class=\"dataframe\">\n",
       "  <thead>\n",
       "    <tr style=\"text-align: right;\">\n",
       "      <th></th>\n",
       "      <th>product_id</th>\n",
       "      <th>category_id</th>\n",
       "      <th>cpc</th>\n",
       "      <th>clicks</th>\n",
       "      <th>views</th>\n",
       "      <th>trivial_score</th>\n",
       "      <th>smoothed_score</th>\n",
       "    </tr>\n",
       "  </thead>\n",
       "  <tbody>\n",
       "    <tr>\n",
       "      <th>8347</th>\n",
       "      <td>7971606985530370322</td>\n",
       "      <td>3151234738806572779</td>\n",
       "      <td>1.835173</td>\n",
       "      <td>13</td>\n",
       "      <td>42</td>\n",
       "      <td>0.568030</td>\n",
       "      <td>0.261064</td>\n",
       "    </tr>\n",
       "    <tr>\n",
       "      <th>7830</th>\n",
       "      <td>4929311323920775984</td>\n",
       "      <td>5165268297756540484</td>\n",
       "      <td>1.635477</td>\n",
       "      <td>53</td>\n",
       "      <td>319</td>\n",
       "      <td>0.271725</td>\n",
       "      <td>0.217223</td>\n",
       "    </tr>\n",
       "    <tr>\n",
       "      <th>4374</th>\n",
       "      <td>1873430933095548887</td>\n",
       "      <td>1923544693465519030</td>\n",
       "      <td>1.657496</td>\n",
       "      <td>9</td>\n",
       "      <td>23</td>\n",
       "      <td>0.648585</td>\n",
       "      <td>0.214883</td>\n",
       "    </tr>\n",
       "    <tr>\n",
       "      <th>6384</th>\n",
       "      <td>7448237091607706733</td>\n",
       "      <td>4423498402721644859</td>\n",
       "      <td>1.636293</td>\n",
       "      <td>97</td>\n",
       "      <td>716</td>\n",
       "      <td>0.221677</td>\n",
       "      <td>0.192055</td>\n",
       "    </tr>\n",
       "    <tr>\n",
       "      <th>2418</th>\n",
       "      <td>4953325780531960527</td>\n",
       "      <td>1923544693465519030</td>\n",
       "      <td>1.658627</td>\n",
       "      <td>16</td>\n",
       "      <td>89</td>\n",
       "      <td>0.298180</td>\n",
       "      <td>0.189979</td>\n",
       "    </tr>\n",
       "    <tr>\n",
       "      <th>1817</th>\n",
       "      <td>355688978800763799</td>\n",
       "      <td>1923544693465519030</td>\n",
       "      <td>1.658973</td>\n",
       "      <td>8</td>\n",
       "      <td>26</td>\n",
       "      <td>0.510453</td>\n",
       "      <td>0.187095</td>\n",
       "    </tr>\n",
       "    <tr>\n",
       "      <th>6769</th>\n",
       "      <td>2074011348493206048</td>\n",
       "      <td>1923544693465519030</td>\n",
       "      <td>1.656056</td>\n",
       "      <td>62</td>\n",
       "      <td>482</td>\n",
       "      <td>0.213020</td>\n",
       "      <td>0.181346</td>\n",
       "    </tr>\n",
       "    <tr>\n",
       "      <th>1044</th>\n",
       "      <td>7600695130221092005</td>\n",
       "      <td>8432810112255698627</td>\n",
       "      <td>2.099385</td>\n",
       "      <td>6</td>\n",
       "      <td>22</td>\n",
       "      <td>0.572559</td>\n",
       "      <td>0.178285</td>\n",
       "    </tr>\n",
       "    <tr>\n",
       "      <th>5569</th>\n",
       "      <td>399824603127141136</td>\n",
       "      <td>6860450697281257066</td>\n",
       "      <td>1.896783</td>\n",
       "      <td>10</td>\n",
       "      <td>57</td>\n",
       "      <td>0.332769</td>\n",
       "      <td>0.173854</td>\n",
       "    </tr>\n",
       "    <tr>\n",
       "      <th>9773</th>\n",
       "      <td>2462016142026349552</td>\n",
       "      <td>7234842626579207420</td>\n",
       "      <td>1.094380</td>\n",
       "      <td>29</td>\n",
       "      <td>124</td>\n",
       "      <td>0.255944</td>\n",
       "      <td>0.172002</td>\n",
       "    </tr>\n",
       "    <tr>\n",
       "      <th>122</th>\n",
       "      <td>8654372885795795372</td>\n",
       "      <td>6741714229206996525</td>\n",
       "      <td>1.959918</td>\n",
       "      <td>22</td>\n",
       "      <td>219</td>\n",
       "      <td>0.196887</td>\n",
       "      <td>0.171798</td>\n",
       "    </tr>\n",
       "    <tr>\n",
       "      <th>834</th>\n",
       "      <td>1361247304741496897</td>\n",
       "      <td>1923544693465519030</td>\n",
       "      <td>1.659522</td>\n",
       "      <td>8</td>\n",
       "      <td>33</td>\n",
       "      <td>0.402308</td>\n",
       "      <td>0.171705</td>\n",
       "    </tr>\n",
       "    <tr>\n",
       "      <th>8961</th>\n",
       "      <td>1152421849846378970</td>\n",
       "      <td>8511150219970800144</td>\n",
       "      <td>1.794821</td>\n",
       "      <td>19</td>\n",
       "      <td>172</td>\n",
       "      <td>0.198265</td>\n",
       "      <td>0.157443</td>\n",
       "    </tr>\n",
       "    <tr>\n",
       "      <th>6705</th>\n",
       "      <td>3693817625054316965</td>\n",
       "      <td>4758633780990544445</td>\n",
       "      <td>1.636095</td>\n",
       "      <td>15</td>\n",
       "      <td>105</td>\n",
       "      <td>0.233728</td>\n",
       "      <td>0.155302</td>\n",
       "    </tr>\n",
       "    <tr>\n",
       "      <th>4585</th>\n",
       "      <td>7011629925203346918</td>\n",
       "      <td>4423498402721644859</td>\n",
       "      <td>1.637372</td>\n",
       "      <td>8</td>\n",
       "      <td>41</td>\n",
       "      <td>0.319487</td>\n",
       "      <td>0.151448</td>\n",
       "    </tr>\n",
       "    <tr>\n",
       "      <th>3931</th>\n",
       "      <td>7977438420361086991</td>\n",
       "      <td>1923544693465519030</td>\n",
       "      <td>1.657749</td>\n",
       "      <td>19</td>\n",
       "      <td>156</td>\n",
       "      <td>0.201905</td>\n",
       "      <td>0.151133</td>\n",
       "    </tr>\n",
       "    <tr>\n",
       "      <th>1514</th>\n",
       "      <td>1868906698749769732</td>\n",
       "      <td>331253488229207547</td>\n",
       "      <td>1.699140</td>\n",
       "      <td>7</td>\n",
       "      <td>31</td>\n",
       "      <td>0.383677</td>\n",
       "      <td>0.149342</td>\n",
       "    </tr>\n",
       "    <tr>\n",
       "      <th>355</th>\n",
       "      <td>798824316180217284</td>\n",
       "      <td>1923544693465519030</td>\n",
       "      <td>1.659777</td>\n",
       "      <td>13</td>\n",
       "      <td>98</td>\n",
       "      <td>0.220175</td>\n",
       "      <td>0.148510</td>\n",
       "    </tr>\n",
       "    <tr>\n",
       "      <th>2083</th>\n",
       "      <td>6218482926693425760</td>\n",
       "      <td>3013626483839084287</td>\n",
       "      <td>1.638802</td>\n",
       "      <td>71</td>\n",
       "      <td>744</td>\n",
       "      <td>0.156391</td>\n",
       "      <td>0.145786</td>\n",
       "    </tr>\n",
       "    <tr>\n",
       "      <th>9518</th>\n",
       "      <td>8867590484570507451</td>\n",
       "      <td>1238055560848089576</td>\n",
       "      <td>1.794512</td>\n",
       "      <td>11</td>\n",
       "      <td>80</td>\n",
       "      <td>0.246745</td>\n",
       "      <td>0.144802</td>\n",
       "    </tr>\n",
       "    <tr>\n",
       "      <th>5088</th>\n",
       "      <td>772615792085463970</td>\n",
       "      <td>183976761074050501</td>\n",
       "      <td>1.897065</td>\n",
       "      <td>12</td>\n",
       "      <td>107</td>\n",
       "      <td>0.212755</td>\n",
       "      <td>0.143198</td>\n",
       "    </tr>\n",
       "    <tr>\n",
       "      <th>5751</th>\n",
       "      <td>8479295495223972212</td>\n",
       "      <td>6036457646356932801</td>\n",
       "      <td>1.756669</td>\n",
       "      <td>9</td>\n",
       "      <td>66</td>\n",
       "      <td>0.239546</td>\n",
       "      <td>0.141075</td>\n",
       "    </tr>\n",
       "    <tr>\n",
       "      <th>8522</th>\n",
       "      <td>3776268947652482668</td>\n",
       "      <td>1309505362017098808</td>\n",
       "      <td>1.895063</td>\n",
       "      <td>11</td>\n",
       "      <td>98</td>\n",
       "      <td>0.212711</td>\n",
       "      <td>0.140157</td>\n",
       "    </tr>\n",
       "    <tr>\n",
       "      <th>7139</th>\n",
       "      <td>576102017388723691</td>\n",
       "      <td>1923544693465519030</td>\n",
       "      <td>1.655855</td>\n",
       "      <td>22</td>\n",
       "      <td>212</td>\n",
       "      <td>0.171834</td>\n",
       "      <td>0.136601</td>\n",
       "    </tr>\n",
       "    <tr>\n",
       "      <th>8156</th>\n",
       "      <td>641652036356189148</td>\n",
       "      <td>338386728329910590</td>\n",
       "      <td>1.635283</td>\n",
       "      <td>17</td>\n",
       "      <td>152</td>\n",
       "      <td>0.182893</td>\n",
       "      <td>0.134777</td>\n",
       "    </tr>\n",
       "    <tr>\n",
       "      <th>8801</th>\n",
       "      <td>6297233994162173739</td>\n",
       "      <td>1820559254927871275</td>\n",
       "      <td>1.894913</td>\n",
       "      <td>9</td>\n",
       "      <td>81</td>\n",
       "      <td>0.210546</td>\n",
       "      <td>0.133266</td>\n",
       "    </tr>\n",
       "    <tr>\n",
       "      <th>4550</th>\n",
       "      <td>1118282009262058464</td>\n",
       "      <td>1923544693465519030</td>\n",
       "      <td>1.657393</td>\n",
       "      <td>9</td>\n",
       "      <td>70</td>\n",
       "      <td>0.213093</td>\n",
       "      <td>0.132257</td>\n",
       "    </tr>\n",
       "    <tr>\n",
       "      <th>4509</th>\n",
       "      <td>7900663287985008770</td>\n",
       "      <td>1923544693465519030</td>\n",
       "      <td>1.657414</td>\n",
       "      <td>9</td>\n",
       "      <td>72</td>\n",
       "      <td>0.207177</td>\n",
       "      <td>0.130155</td>\n",
       "    </tr>\n",
       "    <tr>\n",
       "      <th>635</th>\n",
       "      <td>7442273691676336155</td>\n",
       "      <td>8191228521251377763</td>\n",
       "      <td>1.599624</td>\n",
       "      <td>76</td>\n",
       "      <td>828</td>\n",
       "      <td>0.146825</td>\n",
       "      <td>0.129645</td>\n",
       "    </tr>\n",
       "    <tr>\n",
       "      <th>6798</th>\n",
       "      <td>8326993564499035808</td>\n",
       "      <td>7234842626579207420</td>\n",
       "      <td>1.096039</td>\n",
       "      <td>8</td>\n",
       "      <td>20</td>\n",
       "      <td>0.438415</td>\n",
       "      <td>0.129253</td>\n",
       "    </tr>\n",
       "    <tr>\n",
       "      <th>1767</th>\n",
       "      <td>9133690338422839410</td>\n",
       "      <td>3732328633131036978</td>\n",
       "      <td>1.899006</td>\n",
       "      <td>46</td>\n",
       "      <td>590</td>\n",
       "      <td>0.148058</td>\n",
       "      <td>0.129143</td>\n",
       "    </tr>\n",
       "    <tr>\n",
       "      <th>6946</th>\n",
       "      <td>5612520445731686034</td>\n",
       "      <td>3692024707650725577</td>\n",
       "      <td>1.635969</td>\n",
       "      <td>21</td>\n",
       "      <td>214</td>\n",
       "      <td>0.160539</td>\n",
       "      <td>0.127434</td>\n",
       "    </tr>\n",
       "    <tr>\n",
       "      <th>2673</th>\n",
       "      <td>1556477083094842797</td>\n",
       "      <td>8757232218924067765</td>\n",
       "      <td>1.698484</td>\n",
       "      <td>10</td>\n",
       "      <td>83</td>\n",
       "      <td>0.204637</td>\n",
       "      <td>0.127390</td>\n",
       "    </tr>\n",
       "    <tr>\n",
       "      <th>8271</th>\n",
       "      <td>1125141588255744994</td>\n",
       "      <td>3151234738806572779</td>\n",
       "      <td>1.835209</td>\n",
       "      <td>24</td>\n",
       "      <td>292</td>\n",
       "      <td>0.150839</td>\n",
       "      <td>0.126498</td>\n",
       "    </tr>\n",
       "    <tr>\n",
       "      <th>3193</th>\n",
       "      <td>5576998787506595247</td>\n",
       "      <td>1949840533625410785</td>\n",
       "      <td>1.898193</td>\n",
       "      <td>5</td>\n",
       "      <td>32</td>\n",
       "      <td>0.296593</td>\n",
       "      <td>0.125645</td>\n",
       "    </tr>\n",
       "    <tr>\n",
       "      <th>9055</th>\n",
       "      <td>7235309125858000092</td>\n",
       "      <td>3418601053341261526</td>\n",
       "      <td>1.834771</td>\n",
       "      <td>4</td>\n",
       "      <td>27</td>\n",
       "      <td>0.271818</td>\n",
       "      <td>0.123910</td>\n",
       "    </tr>\n",
       "    <tr>\n",
       "      <th>2594</th>\n",
       "      <td>7303520799702168490</td>\n",
       "      <td>8101428476658521206</td>\n",
       "      <td>2.198520</td>\n",
       "      <td>6</td>\n",
       "      <td>65</td>\n",
       "      <td>0.202940</td>\n",
       "      <td>0.123741</td>\n",
       "    </tr>\n",
       "    <tr>\n",
       "      <th>5745</th>\n",
       "      <td>2557680660607453165</td>\n",
       "      <td>1111307707891106543</td>\n",
       "      <td>1.636671</td>\n",
       "      <td>11</td>\n",
       "      <td>96</td>\n",
       "      <td>0.187535</td>\n",
       "      <td>0.123351</td>\n",
       "    </tr>\n",
       "    <tr>\n",
       "      <th>3877</th>\n",
       "      <td>6815598892453446650</td>\n",
       "      <td>5165268297756540484</td>\n",
       "      <td>1.637783</td>\n",
       "      <td>21</td>\n",
       "      <td>220</td>\n",
       "      <td>0.156334</td>\n",
       "      <td>0.121688</td>\n",
       "    </tr>\n",
       "    <tr>\n",
       "      <th>1400</th>\n",
       "      <td>4985647598099338852</td>\n",
       "      <td>5165268297756540484</td>\n",
       "      <td>1.639199</td>\n",
       "      <td>19</td>\n",
       "      <td>201</td>\n",
       "      <td>0.154949</td>\n",
       "      <td>0.119070</td>\n",
       "    </tr>\n",
       "    <tr>\n",
       "      <th>539</th>\n",
       "      <td>8354406691615426972</td>\n",
       "      <td>8139895675934778318</td>\n",
       "      <td>1.799676</td>\n",
       "      <td>7</td>\n",
       "      <td>55</td>\n",
       "      <td>0.229050</td>\n",
       "      <td>0.117739</td>\n",
       "    </tr>\n",
       "    <tr>\n",
       "      <th>2616</th>\n",
       "      <td>2481796998717529892</td>\n",
       "      <td>1923544693465519030</td>\n",
       "      <td>1.658510</td>\n",
       "      <td>32</td>\n",
       "      <td>388</td>\n",
       "      <td>0.136784</td>\n",
       "      <td>0.117507</td>\n",
       "    </tr>\n",
       "    <tr>\n",
       "      <th>8596</th>\n",
       "      <td>3171817200222048410</td>\n",
       "      <td>3692024707650725577</td>\n",
       "      <td>1.635024</td>\n",
       "      <td>8</td>\n",
       "      <td>69</td>\n",
       "      <td>0.189568</td>\n",
       "      <td>0.117452</td>\n",
       "    </tr>\n",
       "    <tr>\n",
       "      <th>9541</th>\n",
       "      <td>26211448576637127</td>\n",
       "      <td>925365551437414795</td>\n",
       "      <td>1.634506</td>\n",
       "      <td>35</td>\n",
       "      <td>436</td>\n",
       "      <td>0.131210</td>\n",
       "      <td>0.117406</td>\n",
       "    </tr>\n",
       "    <tr>\n",
       "      <th>2005</th>\n",
       "      <td>453534234671416191</td>\n",
       "      <td>4709441281594313927</td>\n",
       "      <td>1.638849</td>\n",
       "      <td>9</td>\n",
       "      <td>84</td>\n",
       "      <td>0.175591</td>\n",
       "      <td>0.115238</td>\n",
       "    </tr>\n",
       "    <tr>\n",
       "      <th>5253</th>\n",
       "      <td>1809366671398232937</td>\n",
       "      <td>3692024707650725577</td>\n",
       "      <td>1.636969</td>\n",
       "      <td>5</td>\n",
       "      <td>32</td>\n",
       "      <td>0.255776</td>\n",
       "      <td>0.115142</td>\n",
       "    </tr>\n",
       "    <tr>\n",
       "      <th>584</th>\n",
       "      <td>2387302361899005772</td>\n",
       "      <td>1309505362017098808</td>\n",
       "      <td>1.899648</td>\n",
       "      <td>7</td>\n",
       "      <td>71</td>\n",
       "      <td>0.187289</td>\n",
       "      <td>0.114644</td>\n",
       "    </tr>\n",
       "    <tr>\n",
       "      <th>4047</th>\n",
       "      <td>1870766663546517945</td>\n",
       "      <td>7113377490830327796</td>\n",
       "      <td>1.697694</td>\n",
       "      <td>9</td>\n",
       "      <td>116</td>\n",
       "      <td>0.131718</td>\n",
       "      <td>0.114154</td>\n",
       "    </tr>\n",
       "    <tr>\n",
       "      <th>7701</th>\n",
       "      <td>3731681282238515820</td>\n",
       "      <td>6741714229206996525</td>\n",
       "      <td>1.955549</td>\n",
       "      <td>3</td>\n",
       "      <td>49</td>\n",
       "      <td>0.119728</td>\n",
       "      <td>0.111484</td>\n",
       "    </tr>\n",
       "    <tr>\n",
       "      <th>9254</th>\n",
       "      <td>1464920009638783814</td>\n",
       "      <td>6741714229206996525</td>\n",
       "      <td>1.954668</td>\n",
       "      <td>3</td>\n",
       "      <td>49</td>\n",
       "      <td>0.119674</td>\n",
       "      <td>0.111434</td>\n",
       "    </tr>\n",
       "  </tbody>\n",
       "</table>\n",
       "</div>"
      ],
      "text/plain": [
       "               product_id          category_id       cpc  clicks  views  \\\n",
       "8347  7971606985530370322  3151234738806572779  1.835173      13     42   \n",
       "7830  4929311323920775984  5165268297756540484  1.635477      53    319   \n",
       "4374  1873430933095548887  1923544693465519030  1.657496       9     23   \n",
       "6384  7448237091607706733  4423498402721644859  1.636293      97    716   \n",
       "2418  4953325780531960527  1923544693465519030  1.658627      16     89   \n",
       "1817   355688978800763799  1923544693465519030  1.658973       8     26   \n",
       "6769  2074011348493206048  1923544693465519030  1.656056      62    482   \n",
       "1044  7600695130221092005  8432810112255698627  2.099385       6     22   \n",
       "5569   399824603127141136  6860450697281257066  1.896783      10     57   \n",
       "9773  2462016142026349552  7234842626579207420  1.094380      29    124   \n",
       "122   8654372885795795372  6741714229206996525  1.959918      22    219   \n",
       "834   1361247304741496897  1923544693465519030  1.659522       8     33   \n",
       "8961  1152421849846378970  8511150219970800144  1.794821      19    172   \n",
       "6705  3693817625054316965  4758633780990544445  1.636095      15    105   \n",
       "4585  7011629925203346918  4423498402721644859  1.637372       8     41   \n",
       "3931  7977438420361086991  1923544693465519030  1.657749      19    156   \n",
       "1514  1868906698749769732   331253488229207547  1.699140       7     31   \n",
       "355    798824316180217284  1923544693465519030  1.659777      13     98   \n",
       "2083  6218482926693425760  3013626483839084287  1.638802      71    744   \n",
       "9518  8867590484570507451  1238055560848089576  1.794512      11     80   \n",
       "5088   772615792085463970   183976761074050501  1.897065      12    107   \n",
       "5751  8479295495223972212  6036457646356932801  1.756669       9     66   \n",
       "8522  3776268947652482668  1309505362017098808  1.895063      11     98   \n",
       "7139   576102017388723691  1923544693465519030  1.655855      22    212   \n",
       "8156   641652036356189148   338386728329910590  1.635283      17    152   \n",
       "8801  6297233994162173739  1820559254927871275  1.894913       9     81   \n",
       "4550  1118282009262058464  1923544693465519030  1.657393       9     70   \n",
       "4509  7900663287985008770  1923544693465519030  1.657414       9     72   \n",
       "635   7442273691676336155  8191228521251377763  1.599624      76    828   \n",
       "6798  8326993564499035808  7234842626579207420  1.096039       8     20   \n",
       "1767  9133690338422839410  3732328633131036978  1.899006      46    590   \n",
       "6946  5612520445731686034  3692024707650725577  1.635969      21    214   \n",
       "2673  1556477083094842797  8757232218924067765  1.698484      10     83   \n",
       "8271  1125141588255744994  3151234738806572779  1.835209      24    292   \n",
       "3193  5576998787506595247  1949840533625410785  1.898193       5     32   \n",
       "9055  7235309125858000092  3418601053341261526  1.834771       4     27   \n",
       "2594  7303520799702168490  8101428476658521206  2.198520       6     65   \n",
       "5745  2557680660607453165  1111307707891106543  1.636671      11     96   \n",
       "3877  6815598892453446650  5165268297756540484  1.637783      21    220   \n",
       "1400  4985647598099338852  5165268297756540484  1.639199      19    201   \n",
       "539   8354406691615426972  8139895675934778318  1.799676       7     55   \n",
       "2616  2481796998717529892  1923544693465519030  1.658510      32    388   \n",
       "8596  3171817200222048410  3692024707650725577  1.635024       8     69   \n",
       "9541    26211448576637127   925365551437414795  1.634506      35    436   \n",
       "2005   453534234671416191  4709441281594313927  1.638849       9     84   \n",
       "5253  1809366671398232937  3692024707650725577  1.636969       5     32   \n",
       "584   2387302361899005772  1309505362017098808  1.899648       7     71   \n",
       "4047  1870766663546517945  7113377490830327796  1.697694       9    116   \n",
       "7701  3731681282238515820  6741714229206996525  1.955549       3     49   \n",
       "9254  1464920009638783814  6741714229206996525  1.954668       3     49   \n",
       "\n",
       "      trivial_score  smoothed_score  \n",
       "8347       0.568030        0.261064  \n",
       "7830       0.271725        0.217223  \n",
       "4374       0.648585        0.214883  \n",
       "6384       0.221677        0.192055  \n",
       "2418       0.298180        0.189979  \n",
       "1817       0.510453        0.187095  \n",
       "6769       0.213020        0.181346  \n",
       "1044       0.572559        0.178285  \n",
       "5569       0.332769        0.173854  \n",
       "9773       0.255944        0.172002  \n",
       "122        0.196887        0.171798  \n",
       "834        0.402308        0.171705  \n",
       "8961       0.198265        0.157443  \n",
       "6705       0.233728        0.155302  \n",
       "4585       0.319487        0.151448  \n",
       "3931       0.201905        0.151133  \n",
       "1514       0.383677        0.149342  \n",
       "355        0.220175        0.148510  \n",
       "2083       0.156391        0.145786  \n",
       "9518       0.246745        0.144802  \n",
       "5088       0.212755        0.143198  \n",
       "5751       0.239546        0.141075  \n",
       "8522       0.212711        0.140157  \n",
       "7139       0.171834        0.136601  \n",
       "8156       0.182893        0.134777  \n",
       "8801       0.210546        0.133266  \n",
       "4550       0.213093        0.132257  \n",
       "4509       0.207177        0.130155  \n",
       "635        0.146825        0.129645  \n",
       "6798       0.438415        0.129253  \n",
       "1767       0.148058        0.129143  \n",
       "6946       0.160539        0.127434  \n",
       "2673       0.204637        0.127390  \n",
       "8271       0.150839        0.126498  \n",
       "3193       0.296593        0.125645  \n",
       "9055       0.271818        0.123910  \n",
       "2594       0.202940        0.123741  \n",
       "5745       0.187535        0.123351  \n",
       "3877       0.156334        0.121688  \n",
       "1400       0.154949        0.119070  \n",
       "539        0.229050        0.117739  \n",
       "2616       0.136784        0.117507  \n",
       "8596       0.189568        0.117452  \n",
       "9541       0.131210        0.117406  \n",
       "2005       0.175591        0.115238  \n",
       "5253       0.255776        0.115142  \n",
       "584        0.187289        0.114644  \n",
       "4047       0.131718        0.114154  \n",
       "7701       0.119728        0.111484  \n",
       "9254       0.119674        0.111434  "
      ]
     },
     "execution_count": 45,
     "metadata": {},
     "output_type": "execute_result"
    }
   ],
   "source": [
    "data.sort_values('smoothed_score', ascending=False).head(50)"
   ]
  },
  {
   "cell_type": "markdown",
   "metadata": {},
   "source": [
    "<h3> Results discussion</h3>\n",
    "\n",
    "After manual review of algorithm results, smoothed algorithm results looks much better than trivial one despite that trivial has even better score. At first, smoothed results have relatively high results for not shown products, so they could be probably shown and clicks could be collected.\n",
    "\n",
    "The metric proposed is able to differentiate really bad or random algorithm from meaningful, but is not ideal, because trivial algorithm has relatively high value despite having very strange predictions like zeros for unseen items.\n",
    "\n",
    "The solution in this situation is having lots of diffent metrics and looking at all of them preventing huge degradation of one of them. For example, after adding log loss for estimated probability (and weighted according to CPC), trivial algorithm will be easily identified as bad one.\n",
    "\n",
    "What could be improved next:\n",
    "\n",
    "1) More metrics and better main objective function definition. <br>\n",
    "2) More different smoothing formulas could be tried. <br>\n",
    "3) Results could be evaluated as the whole list instead of summing over items. It could improve results diversity. <br>\n",
    "4) More features and data could be used. <br>\n",
    "5) If this recommendation list is static we can consider our task as a multihanded bandit problem. <br>\n",
    "6) Personalization can be done (if possible)."
   ]
  }
 ],
 "metadata": {
  "kernelspec": {
   "display_name": "Python 3",
   "language": "python",
   "name": "python3"
  },
  "language_info": {
   "codemirror_mode": {
    "name": "ipython",
    "version": 3
   },
   "file_extension": ".py",
   "mimetype": "text/x-python",
   "name": "python",
   "nbconvert_exporter": "python",
   "pygments_lexer": "ipython3",
   "version": "3.5.2"
  }
 },
 "nbformat": 4,
 "nbformat_minor": 2
}
